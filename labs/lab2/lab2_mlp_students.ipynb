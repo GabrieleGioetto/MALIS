{
 "cells": [
  {
   "cell_type": "markdown",
   "metadata": {},
   "source": [
    "<h1>MALIS Lab Session 2 - Fall 2019</h1>\n",
    "November 12, 2019"
   ]
  },
  {
   "cell_type": "markdown",
   "metadata": {},
   "source": [
    "The aim of this lab is to practice with Neural Networks (Multi-Layer Perceptrons) via simple classification experiments and the (partial) implementation of the feedforward and backpropagation procedures. For this lab, the implementation of the MLP simulator is in Python 3.\n",
    "\n",
    "#### Learning goals\n",
    "After this lab, you should be able to:\n",
    "1. Be familiar with the elements required to define the architecture of a neural network (NN).\n",
    "2. Understand the two procedures needed to train a neural network: feedforward and backpropagation\n",
    "3. Understand the role of the learning rate and the number of iterations in the training process of a NN and how it these can affect performance.\n",
    "\n",
    "#### Instructions:\n",
    "Experiments should be made by groups of two students. Each group should produce a Jupyter Notebook with all their results and comments. We strongly encourage the addition of plots and visual representation to the report, bearing in mind that comments on the graphical data are still necessary. Code for adding images to your notebook: ```<img src=\"path/to/image.png\" />```. <Plateforme soumission des notebooks>\n",
    "\n",
    "**Submission deadline**: Nov. 18 23.59 (submision via Moodle)"
   ]
  },
  {
   "cell_type": "markdown",
   "metadata": {},
   "source": [
    "<h2>Introduction</h2>\n",
    "There are three parts to this lab session. \n",
    "\n",
    "1. A \"theoretical\" part: Given a set of training examples you have to decide on the architecture of the feed-forward neural network such as; number of layers, number of neuron per layers and finally the values of the weights. \n",
    "\n",
    "2. A \"programming\" part: Given the skeleton of the Python code of an MLP simulator, implement the missing functions (feedforward and backpropagation procedures). \n",
    "\n",
    "3. An \"experimental\" part: Having completed the implementation of the MLP simulator, the final step consist on training the network and testing it.\n",
    "\n",
    "<h2>Part 1: Design a neural network</h2>\n",
    "The aim of this part is to get a better understanding of the basics of Neural Networks construction. A number of sample points on a 128 by 128 grid have been assigned one out of three colors (red, green or blue). You should build a Neural Network with two inputs and three outputs which provides the exact coloring for these points. The problem can be visualized in the following figure: \n",
    "\n",
    "<img src=\"data_set.jpg\" />\n",
    "\n",
    "The file set30.x1x2rgb (in .\\data\\) contains the data corresponding to the problem defined above. The visual representation of the problem (above figure) is stored in data_set.jpg.\n",
    "\n",
    "The problem:\n",
    "\n",
    "Pairs of x1 and x2 coordinates (both ranging between 0 and 127) are associated with a specific color: \n",
    "\n",
    "* Red: output 1 0 0, \n",
    "* Green: output 0 1 0, \n",
    "* Blue: output 0 0 1. \n",
    "\n",
    "The objective of the network is to correctly determine for any given (x1, x2) coordinate pair the corresponding color. \n",
    "Your task is to <b>manually define a Neural Network which performs this task perfectly</b>. There is no need for programming or iterative training. The transfer function is assumed to be the step function: \n",
    "\n",
    "$f(t) = (t > 0)$ (it is equal to 1 if t is positive, 0 otherwise). \n",
    "\n",
    "Of course, it is your task to define the number of layers, the number of neurons per layer, and the exact values for the weights. \n",
    "\n",
    "<i>Hint: We may remember the XOR problem and how it was solved.</i>"
   ]
  },
  {
   "cell_type": "markdown",
   "metadata": {},
   "source": [
    "<h3>Your answer:</h3>"
   ]
  },
  {
   "cell_type": "raw",
   "metadata": {},
   "source": [
    "Input layer:  2 units,  x1   x2\n",
    "First hidden layer:\n",
    "    k neurons:\n",
    "    neuron 1: w11 = <indicate the value here>\n",
    "                  w21 = <indicate the value here>\n",
    "                  b1  = <indicate the value here>\n",
    "    neuron 2: w12 = <indicate the value here>\n",
    "                  w22 = <indicate the value here>\n",
    "                  b2  = <indicate the value here>\n",
    "    ...\n",
    "    neuron k: w1k = <indicate the value here>\n",
    "                  w2k = <indicate the value here>\n",
    "                  bk  = <indicate the value here>\n",
    "second hidden layer:\n",
    "    h neurons:\n",
    "    neuron 1: w11 = <indicate the value here>\n",
    "                  w21 = <indicate the value here>\n",
    "                  ...\n",
    "                  wk1 = <indicate the value here>\n",
    "                  b1  = <indicate the value here>\n",
    "    ...\n",
    "    neuron h: w1h = <indicate the value here>\n",
    "                  w2h = <indicate the value here>\n",
    "                  ...\n",
    "                  wkh = <indicate the value here>\n",
    "                  bh  = <indicate the value here>\n",
    "...\n",
    "output layer:\n",
    "    3 neurons:\n",
    "    neuron 1: w11 = <indicate the value here>\n",
    "                  w21 = <indicate the value here>\n",
    "                  ...\n",
    "                  wl1 = <indicate the value here>\n",
    "                  b1  = <indicate the value here>\n",
    "    neuron 2: w12 = <indicate the value here>\n",
    "                  w22 = <indicate the value here>\n",
    "                  ...\n",
    "                  wl2 = <indicate the value here>\n",
    "                  bh  = <indicate the value here>\n",
    "    neuron 3: w13 = <indicate the value here>\n",
    "                  w23 = <indicate the value here>\n",
    "                  ...\n",
    "                  wl3 = <indicate the value here>\n",
    "                  b3  = <indicate the value here>"
   ]
  },
  {
   "cell_type": "markdown",
   "metadata": {},
   "source": [
    "<h2>Part 2: Implementation of the MLP simulator</h2>\n",
    "The task here is to implement the missing parts of a code written to simulate multi-layer perceptrons. The code can be found in your directory under the filename utils.py (but you will not edit that file, all your code will be written in your notebook). Here is a brief explanation about the MLP simulator: \n",
    "\n",
    "A network description file has to be provided. This is a text file which contains information about the number of layers in the network and the number of units (neuron) for each layer. Here is an example of such a file: "
   ]
  },
  {
   "cell_type": "raw",
   "metadata": {},
   "source": [
    "2\n",
    "3"
   ]
  },
  {
   "cell_type": "markdown",
   "metadata": {},
   "source": [
    "This example describes a 2 layer network with 2 hidden units and 3 output units. \n",
    "Additionally a pattern (or example set) file has to be provided. This file contains a number of example pattern with input and output values. For an example of such a file look at ./data/set30.x1x2rgb.\n",
    "\n",
    "As you know, activation functions of an MLP need to be differentiable to train it. Therefore, we replace the step function by a sigmoid function.\n",
    "\n",
    "Now that you have a broad overview of the program your task is to <b>implement the feedforward function of the Neuron class</b>. Obviously, you can find help in the notes from the course."
   ]
  },
  {
   "cell_type": "code",
   "execution_count": null,
   "metadata": {},
   "outputs": [],
   "source": [
    "# First run this cell to import relevant classes and functions\n",
    "from utils import Neuron, Dataset, Layer, MLP, sigmoid, d_sigmoid"
   ]
  },
  {
   "cell_type": "markdown",
   "metadata": {},
   "source": [
    "<h3>Your answer:</h3>"
   ]
  },
  {
   "cell_type": "code",
   "execution_count": null,
   "metadata": {},
   "outputs": [],
   "source": [
    "def feedforward(self):\n",
    "    res = 0.\n",
    "    for i in range(len(self.inputs)):\n",
    "        res += ### IMPLEMENTATION REQUIRED ###\n",
    "    res += self.bias\n",
    "    self.u = res\n",
    "    self.out = sigmoid(res)\n",
    "\n",
    "Neuron.feedforward = feedforward"
   ]
  },
  {
   "cell_type": "markdown",
   "metadata": {},
   "source": [
    "Before implementing the Backpropagation function, <b>write the recursive formula for the partial derivative of the error with respect to the activation (neuron j of layer i) as a function of the weights and partial derivative of the error in layer i+1 from the course material</b>."
   ]
  },
  {
   "cell_type": "markdown",
   "metadata": {},
   "source": [
    "<h3>Your answer:</h3>\n",
    "\n",
    "$$\\frac{\\partial L}{\\partial a^{(i)}_j} = \\quad ...$$"
   ]
  },
  {
   "cell_type": "markdown",
   "metadata": {},
   "source": [
    "Now, <b>implement the compute_gradients() and the apply_gradient() functions of the MLP class</b>.\n",
    "\n",
    "<h3>Your answer:</h3>"
   ]
  },
  {
   "cell_type": "code",
   "execution_count": null,
   "metadata": {},
   "outputs": [],
   "source": [
    "def compute_gradients(self):\n",
    "    # First compute derivatives for the last layer\n",
    "    layer = self.layers[-1]\n",
    "    for i in range(len(layer)):\n",
    "        # Compute dL/du_i\n",
    "        neuron = layer.neurons[i]\n",
    "        o = neuron.out\n",
    "        u = neuron.u\n",
    "        t = self.gt[i]\n",
    "        neuron.d_u = ### IMPLEMENTATION REQUIRED ###\n",
    "        for j in range(len(neuron.weights)):\n",
    "            # Compute dL/dw_ji\n",
    "            neuron.d_weights[j] = ### IMPLEMENTATION REQUIRED ###\n",
    "\n",
    "    # Then compute derivatives for other layers\n",
    "    for l in range(2, len(self.layers)):\n",
    "        layer = self.layers[-l]\n",
    "        next_layer = self.layers[-l+1]\n",
    "        for i in range(len(layer)):\n",
    "            # Compute dL/du_i\n",
    "            neuron = layer.neurons[i]\n",
    "            d_u = 0.\n",
    "            u = neuron.u\n",
    "            for j in range(len(next_layer)):\n",
    "                ### IMPLEMENTATION REQUIRED ###\n",
    "            neuron.d_u = d_u\n",
    "            for j in range(len(neuron.weights)):\n",
    "                # Compute dL/dw_ji\n",
    "                neuron.d_weights[j] = ### IMPLEMENTATION REQUIRED ###\n",
    "\n",
    "def apply_gradients(self, learning_rate):\n",
    "    # Change weights according to computed gradients\n",
    "    for i in range(1, len(self.layers)):\n",
    "        layer = self.layers[i]\n",
    "        for j in range(1, len(layer)):\n",
    "            neuron = layer.neurons[j]\n",
    "            for k in range(len(neuron.d_weights)):\n",
    "                neuron.weights[k] -= ### IMPLEMENTATION REQUIRED ###\n",
    "            neuron.bias -= ### IMPLEMENTATION REQUIRED ###\n",
    "\n",
    "MLP.compute_gradients = compute_gradients\n",
    "MLP.apply_gradients = apply_gradients"
   ]
  },
  {
   "cell_type": "markdown",
   "metadata": {},
   "source": [
    "<h2>Part 3: Training and Recall experiments</h2>\n",
    "\n",
    "Train the network on the problem stated in Part 1, using the training set set120.x1x2rgb and the following parameters:\n",
    "* learning rate: 2.0; \n",
    "* number of training cycles: 1000\n",
    "\n",
    "In order to do so you will need to create a network definition file (as described in the introduction) containing the details of the network architecture. \n",
    "Evaluate the accuracy using set30.x1x2rgb as the test set (you can use the setdataset() function of the MLP class to change between training and test sets).\n",
    "\n",
    "Experiment with the learning rate and the number of training cycles. What do you notice?"
   ]
  },
  {
   "cell_type": "markdown",
   "metadata": {},
   "source": [
    "<h3>Your answer:</h3>"
   ]
  },
  {
   "cell_type": "code",
   "execution_count": null,
   "metadata": {},
   "outputs": [],
   "source": [
    "train_datafile = \"data/set120.x1x2rgb\"\n",
    "train_data = Dataset(train_datafile)\n",
    "\n",
    "test_datafile = \"data/set30.x1x2rgb\"\n",
    "test_data = Dataset(test_datafile)\n",
    "\n",
    "nnfile = \"data/NN.dat\"\n",
    "mlp = MLP(nnfile, train_data, print_step=100, verbose=False)\n",
    "\n",
    "mlp.train(1000, 2.0)\n",
    "mlp.make_plot()\n",
    "\n",
    "print(\"=== Result on test data ===\")\n",
    "mlp.setdataset(test_data)\n",
    "mlp.print_accuracy()"
   ]
  },
  {
   "cell_type": "markdown",
   "metadata": {},
   "source": [
    "<h3>Your comments</h3>\n",
    "..."
   ]
  },
  {
   "cell_type": "code",
   "execution_count": null,
   "metadata": {},
   "outputs": [],
   "source": []
  }
 ],
 "metadata": {
  "kernelspec": {
   "display_name": "Python 3",
   "language": "python",
   "name": "python3"
  },
  "language_info": {
   "codemirror_mode": {
    "name": "ipython",
    "version": 3
   },
   "file_extension": ".py",
   "mimetype": "text/x-python",
   "name": "python",
   "nbconvert_exporter": "python",
   "pygments_lexer": "ipython3",
   "version": "3.7.3"
  }
 },
 "nbformat": 4,
 "nbformat_minor": 2
}
